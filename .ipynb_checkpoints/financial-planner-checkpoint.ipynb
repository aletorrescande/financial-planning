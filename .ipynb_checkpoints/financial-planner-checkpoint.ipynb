{
 "cells": [
  {
   "cell_type": "markdown",
   "metadata": {},
   "source": [
    "# Unit 5 - Financial Planning"
   ]
  },
  {
   "cell_type": "code",
   "execution_count": 1,
   "metadata": {},
   "outputs": [],
   "source": [
    "# Import needed libraries and dependencies\n",
    "import os\n",
    "import requests\n",
    "import pandas as pd\n",
    "from dotenv import load_dotenv\n",
    "from pprint import pprint\n",
    "import alpaca_trade_api as tradeapi\n",
    "from MCForecastTools import MCSimulation\n",
    "\n",
    "%matplotlib inline"
   ]
  },
  {
   "cell_type": "markdown",
   "metadata": {},
   "source": [
    "## Part 1 - Personal Finance Planner"
   ]
  },
  {
   "cell_type": "markdown",
   "metadata": {},
   "source": [
    "### Collect Crypto Prices Using the `requests` Library"
   ]
  },
  {
   "cell_type": "code",
   "execution_count": 2,
   "metadata": {},
   "outputs": [],
   "source": [
    "# Set current amount of crypto assets\n",
    "my_btc = 1.2\n",
    "my_eth = 5.3"
   ]
  },
  {
   "cell_type": "code",
   "execution_count": 3,
   "metadata": {},
   "outputs": [],
   "source": [
    "# Crypto API URLs\n",
    "btc_url = \"https://api.alternative.me/v2/ticker/Bitcoin/?convert=USD\"\n",
    "eth_url = \"https://api.alternative.me/v2/ticker/Ethereum/?convert=USD\""
   ]
  },
  {
   "cell_type": "code",
   "execution_count": 4,
   "metadata": {
    "scrolled": true,
    "tags": []
   },
   "outputs": [
    {
     "name": "stdout",
     "output_type": "stream",
     "text": [
      "{ 'data': { '1': { 'circulating_supply': 19428512,\n",
      "                   'id': 1,\n",
      "                   'last_updated': 1689277191,\n",
      "                   'max_supply': 21000000,\n",
      "                   'name': 'Bitcoin',\n",
      "                   'quotes': { 'USD': { 'market_cap': 613941900341,\n",
      "                                        'percent_change_1h': 1.21618318051851,\n",
      "                                        'percent_change_24h': 4.59737835220375,\n",
      "                                        'percent_change_7d': 4.49501263340143,\n",
      "                                        'percentage_change_1h': 1.21618318051851,\n",
      "                                        'percentage_change_24h': 4.59737835220375,\n",
      "                                        'percentage_change_7d': 4.49501263340143,\n",
      "                                        'price': 31644.0,\n",
      "                                        'volume_24h': 22088766300}},\n",
      "                   'rank': 1,\n",
      "                   'symbol': 'BTC',\n",
      "                   'total_supply': 19428512,\n",
      "                   'website_slug': 'bitcoin'}},\n",
      "  'metadata': { 'error': None,\n",
      "                'num_cryptocurrencies': 3119,\n",
      "                'timestamp': 1689277191}}\n"
     ]
    }
   ],
   "source": [
    "# Get BTC data\n",
    "response= requests.get(btc_url)\n",
    "\n",
    "# format data as JSON\n",
    "btc_data= response.json()\n",
    "\n",
    "# Use pprint to better visualize data\n",
    "pprint(btc_data, indent=2)"
   ]
  },
  {
   "cell_type": "code",
   "execution_count": 5,
   "metadata": {},
   "outputs": [
    {
     "data": {
      "text/plain": [
       "31644.0"
      ]
     },
     "execution_count": 5,
     "metadata": {},
     "output_type": "execute_result"
    }
   ],
   "source": [
    "# Select btc price and store as variable\n",
    "btc_price= btc_data[\"data\"][\"1\"][\"quotes\"][\"USD\"][\"price\"]\n",
    "btc_price"
   ]
  },
  {
   "cell_type": "code",
   "execution_count": 6,
   "metadata": {
    "scrolled": true,
    "tags": []
   },
   "outputs": [
    {
     "name": "stdout",
     "output_type": "stream",
     "text": [
      "<class 'dict'>\n",
      "{ 'data': { '1027': { 'circulating_supply': 120206569,\n",
      "                      'id': 1027,\n",
      "                      'last_updated': 1689277193,\n",
      "                      'max_supply': 120206569,\n",
      "                      'name': 'Ethereum',\n",
      "                      'quotes': { 'USD': { 'market_cap': 240225956197,\n",
      "                                           'percent_change_1h': 0.373302426807269,\n",
      "                                           'percent_change_24h': 6.89760115565575,\n",
      "                                           'percent_change_7d': 5.8502772479292,\n",
      "                                           'percentage_change_1h': 0.373302426807269,\n",
      "                                           'percentage_change_24h': 6.89760115565575,\n",
      "                                           'percentage_change_7d': 5.8502772479292,\n",
      "                                           'price': 1998.79,\n",
      "                                           'volume_24h': 16656164379}},\n",
      "                      'rank': 2,\n",
      "                      'symbol': 'ETH',\n",
      "                      'total_supply': 120206569,\n",
      "                      'website_slug': 'ethereum'}},\n",
      "  'metadata': { 'error': None,\n",
      "                'num_cryptocurrencies': 3119,\n",
      "                'timestamp': 1689277193}}\n"
     ]
    }
   ],
   "source": [
    "# Get eth data\n",
    "response_eth= requests.get(eth_url)\n",
    "\n",
    "# format data as JSON\n",
    "eth_data= response_eth.json()\n",
    "print(type(eth_data))\n",
    "\n",
    "# Use pprint to better visualize data\n",
    "pprint(eth_data, indent=2)\n"
   ]
  },
  {
   "cell_type": "code",
   "execution_count": 7,
   "metadata": {},
   "outputs": [
    {
     "data": {
      "text/plain": [
       "1998.79"
      ]
     },
     "execution_count": 7,
     "metadata": {},
     "output_type": "execute_result"
    }
   ],
   "source": [
    "# # Select eth price and store as variable\n",
    "eth_price= eth_data[\"data\"][\"1027\"][\"quotes\"][\"USD\"][\"price\"]\n",
    "eth_price"
   ]
  },
  {
   "cell_type": "code",
   "execution_count": 8,
   "metadata": {},
   "outputs": [
    {
     "name": "stdout",
     "output_type": "stream",
     "text": [
      "The current value of your 1.2 BTC is $37972.80\n",
      "The current value of your 5.3 ETH is $10593.59\n"
     ]
    }
   ],
   "source": [
    "# Compute current value of my crpto (asstes * price)\n",
    "my_btc_value = my_btc * btc_price\n",
    "my_eth_value = my_eth * eth_price\n",
    "\n",
    "# Print current crypto wallet balance\n",
    "print(f\"The current value of your {my_btc} BTC is ${my_btc_value:0.2f}\")\n",
    "print(f\"The current value of your {my_eth} ETH is ${my_eth_value:0.2f}\")"
   ]
  },
  {
   "cell_type": "markdown",
   "metadata": {},
   "source": [
    "### Collect Investments Data Using Alpaca: `SPY` (stocks) and `AGG` (bonds)"
   ]
  },
  {
   "cell_type": "code",
   "execution_count": 9,
   "metadata": {},
   "outputs": [],
   "source": [
    "# Set current amount of shares\n",
    "my_agg = 200\n",
    "my_spy = 50"
   ]
  },
  {
   "cell_type": "code",
   "execution_count": 10,
   "metadata": {},
   "outputs": [
    {
     "data": {
      "text/plain": [
       "True"
      ]
     },
     "execution_count": 10,
     "metadata": {},
     "output_type": "execute_result"
    }
   ],
   "source": [
    "# Load .env enviroment variables\n",
    "# go to my_keys.env file and enter your Alpaca Api Key and Alpaca Secret Key\n",
    "load_dotenv(\"my_keys.env\")"
   ]
  },
  {
   "cell_type": "code",
   "execution_count": 11,
   "metadata": {},
   "outputs": [],
   "source": [
    "# Set Alpaca API key and secret\n",
    "alpaca_api_key = os.getenv(\"ALPACA_API_KEY\")\n",
    "alpaca_secret_key = os.getenv(\"ALPACA_SECRET_KEY\")\n",
    "\n",
    "# Create the Alpaca API object using \".REST\"\n",
    "alpaca = tradeapi.REST(\n",
    "    alpaca_api_key,\n",
    "    alpaca_secret_key,\n",
    "    api_version=\"v2\")"
   ]
  },
  {
   "cell_type": "code",
   "execution_count": 12,
   "metadata": {},
   "outputs": [
    {
     "data": {
      "text/plain": [
       "'2023-07-13T00:00:00-04:00'"
      ]
     },
     "execution_count": 12,
     "metadata": {},
     "output_type": "execute_result"
    }
   ],
   "source": [
    "# type today's date and format date as ISO format\n",
    "today = pd.Timestamp(\"2023-07-13\", tz=\"America/New_York\").isoformat()\n",
    "today\n"
   ]
  },
  {
   "cell_type": "code",
   "execution_count": 13,
   "metadata": {},
   "outputs": [
    {
     "data": {
      "text/html": [
       "<div>\n",
       "<style scoped>\n",
       "    .dataframe tbody tr th:only-of-type {\n",
       "        vertical-align: middle;\n",
       "    }\n",
       "\n",
       "    .dataframe tbody tr th {\n",
       "        vertical-align: top;\n",
       "    }\n",
       "\n",
       "    .dataframe thead th {\n",
       "        text-align: right;\n",
       "    }\n",
       "</style>\n",
       "<table border=\"1\" class=\"dataframe\">\n",
       "  <thead>\n",
       "    <tr style=\"text-align: right;\">\n",
       "      <th></th>\n",
       "      <th>open</th>\n",
       "      <th>high</th>\n",
       "      <th>low</th>\n",
       "      <th>close</th>\n",
       "      <th>volume</th>\n",
       "      <th>trade_count</th>\n",
       "      <th>vwap</th>\n",
       "      <th>symbol</th>\n",
       "    </tr>\n",
       "    <tr>\n",
       "      <th>timestamp</th>\n",
       "      <th></th>\n",
       "      <th></th>\n",
       "      <th></th>\n",
       "      <th></th>\n",
       "      <th></th>\n",
       "      <th></th>\n",
       "      <th></th>\n",
       "      <th></th>\n",
       "    </tr>\n",
       "  </thead>\n",
       "  <tbody>\n",
       "    <tr>\n",
       "      <th>2023-07-13 04:00:00+00:00</th>\n",
       "      <td>98.18</td>\n",
       "      <td>98.44</td>\n",
       "      <td>98.115</td>\n",
       "      <td>98.3836</td>\n",
       "      <td>4590331</td>\n",
       "      <td>26194</td>\n",
       "      <td>98.309559</td>\n",
       "      <td>AGG</td>\n",
       "    </tr>\n",
       "    <tr>\n",
       "      <th>2023-07-13 04:00:00+00:00</th>\n",
       "      <td>447.90</td>\n",
       "      <td>450.09</td>\n",
       "      <td>447.450</td>\n",
       "      <td>450.0900</td>\n",
       "      <td>50890502</td>\n",
       "      <td>378547</td>\n",
       "      <td>448.355393</td>\n",
       "      <td>SPY</td>\n",
       "    </tr>\n",
       "  </tbody>\n",
       "</table>\n",
       "</div>"
      ],
      "text/plain": [
       "                             open    high      low     close    volume  \\\n",
       "timestamp                                                                \n",
       "2023-07-13 04:00:00+00:00   98.18   98.44   98.115   98.3836   4590331   \n",
       "2023-07-13 04:00:00+00:00  447.90  450.09  447.450  450.0900  50890502   \n",
       "\n",
       "                           trade_count        vwap symbol  \n",
       "timestamp                                                  \n",
       "2023-07-13 04:00:00+00:00        26194   98.309559    AGG  \n",
       "2023-07-13 04:00:00+00:00       378547  448.355393    SPY  "
      ]
     },
     "execution_count": 13,
     "metadata": {},
     "output_type": "execute_result"
    }
   ],
   "source": [
    "# Set the tickers\n",
    "tickers = [\"AGG\", \"SPY\"]\n",
    "\n",
    "# Set timeframe to \"1Day\" for Alpaca API\n",
    "timeframe = \"1Day\"\n",
    "\n",
    "# Get Closing Price for SPY and AGG using Alpaca \".get_bars\" function and transform response to Dataframe\n",
    "df_portfolio = alpaca.get_bars(\n",
    "    tickers,\n",
    "    timeframe,\n",
    "    start = today,\n",
    "    end = today,\n",
    ").df\n",
    "\n",
    "#Display data\n",
    "df_portfolio\n"
   ]
  },
  {
   "cell_type": "code",
   "execution_count": 14,
   "metadata": {},
   "outputs": [
    {
     "data": {
      "text/html": [
       "<div>\n",
       "<style scoped>\n",
       "    .dataframe tbody tr th:only-of-type {\n",
       "        vertical-align: middle;\n",
       "    }\n",
       "\n",
       "    .dataframe tbody tr th {\n",
       "        vertical-align: top;\n",
       "    }\n",
       "\n",
       "    .dataframe thead tr th {\n",
       "        text-align: left;\n",
       "    }\n",
       "\n",
       "    .dataframe thead tr:last-of-type th {\n",
       "        text-align: right;\n",
       "    }\n",
       "</style>\n",
       "<table border=\"1\" class=\"dataframe\">\n",
       "  <thead>\n",
       "    <tr>\n",
       "      <th></th>\n",
       "      <th colspan=\"7\" halign=\"left\">AGG</th>\n",
       "      <th colspan=\"7\" halign=\"left\">SPY</th>\n",
       "    </tr>\n",
       "    <tr>\n",
       "      <th></th>\n",
       "      <th>open</th>\n",
       "      <th>high</th>\n",
       "      <th>low</th>\n",
       "      <th>close</th>\n",
       "      <th>volume</th>\n",
       "      <th>trade_count</th>\n",
       "      <th>vwap</th>\n",
       "      <th>open</th>\n",
       "      <th>high</th>\n",
       "      <th>low</th>\n",
       "      <th>close</th>\n",
       "      <th>volume</th>\n",
       "      <th>trade_count</th>\n",
       "      <th>vwap</th>\n",
       "    </tr>\n",
       "    <tr>\n",
       "      <th>timestamp</th>\n",
       "      <th></th>\n",
       "      <th></th>\n",
       "      <th></th>\n",
       "      <th></th>\n",
       "      <th></th>\n",
       "      <th></th>\n",
       "      <th></th>\n",
       "      <th></th>\n",
       "      <th></th>\n",
       "      <th></th>\n",
       "      <th></th>\n",
       "      <th></th>\n",
       "      <th></th>\n",
       "      <th></th>\n",
       "    </tr>\n",
       "  </thead>\n",
       "  <tbody>\n",
       "    <tr>\n",
       "      <th>2023-07-13 04:00:00+00:00</th>\n",
       "      <td>98.18</td>\n",
       "      <td>98.44</td>\n",
       "      <td>98.115</td>\n",
       "      <td>98.3836</td>\n",
       "      <td>4590331</td>\n",
       "      <td>26194</td>\n",
       "      <td>98.309559</td>\n",
       "      <td>447.9</td>\n",
       "      <td>450.09</td>\n",
       "      <td>447.45</td>\n",
       "      <td>450.09</td>\n",
       "      <td>50890502</td>\n",
       "      <td>378547</td>\n",
       "      <td>448.355393</td>\n",
       "    </tr>\n",
       "  </tbody>\n",
       "</table>\n",
       "</div>"
      ],
      "text/plain": [
       "                             AGG                                               \\\n",
       "                            open   high     low    close   volume trade_count   \n",
       "timestamp                                                                       \n",
       "2023-07-13 04:00:00+00:00  98.18  98.44  98.115  98.3836  4590331       26194   \n",
       "\n",
       "                                        SPY                                    \\\n",
       "                                vwap   open    high     low   close    volume   \n",
       "timestamp                                                                       \n",
       "2023-07-13 04:00:00+00:00  98.309559  447.9  450.09  447.45  450.09  50890502   \n",
       "\n",
       "                                                   \n",
       "                          trade_count        vwap  \n",
       "timestamp                                          \n",
       "2023-07-13 04:00:00+00:00      378547  448.355393  "
      ]
     },
     "execution_count": 14,
     "metadata": {},
     "output_type": "execute_result"
    }
   ],
   "source": [
    "# Reorganize the DataFrame\n",
    "# Separate ticker data\n",
    "AGG = df_portfolio[df_portfolio['symbol']=='AGG'].drop('symbol', axis='columns')\n",
    "SPY = df_portfolio[df_portfolio['symbol']=='SPY'].drop('symbol', axis='columns')\n",
    "\n",
    "# Concatenate the ticker DataFrames\n",
    "df_portfolio = pd.concat([AGG, SPY],axis=1, keys=['AGG','SPY'])\n",
    "\n",
    "# Preview DataFrame\n",
    "df_portfolio"
   ]
  },
  {
   "cell_type": "code",
   "execution_count": 15,
   "metadata": {},
   "outputs": [
    {
     "name": "stdout",
     "output_type": "stream",
     "text": [
      "Current AGG closing price: $98.3836\n",
      "Current SPY closing price: $450.09\n"
     ]
    }
   ],
   "source": [
    "# Set variables for closing price and assign their value\n",
    "agg_close_price = float(df_portfolio[\"AGG\"][\"close\"])\n",
    "spy_close_price = float(df_portfolio[\"SPY\"][\"close\"])\n",
    "\n",
    "# Print AGG and SPY close prices\n",
    "print(f\"Current AGG closing price: ${agg_close_price}\")\n",
    "print(f\"Current SPY closing price: ${spy_close_price}\")"
   ]
  },
  {
   "cell_type": "code",
   "execution_count": 16,
   "metadata": {},
   "outputs": [
    {
     "name": "stdout",
     "output_type": "stream",
     "text": [
      "The current value of your 50 SPY shares is $22504.50\n",
      "The current value of your 200 AGG shares is $19676.72\n"
     ]
    }
   ],
   "source": [
    "# Compute the current value of shares (Price * number of shares)\n",
    "my_agg_value = agg_close_price * my_agg\n",
    "my_spy_value = spy_close_price * my_spy\n",
    "\n",
    "# Print current value of shares\n",
    "print(f\"The current value of your {my_spy} SPY shares is ${my_spy_value:0.2f}\")\n",
    "print(f\"The current value of your {my_agg} AGG shares is ${my_agg_value:0.2f}\")"
   ]
  },
  {
   "cell_type": "markdown",
   "metadata": {},
   "source": [
    "### Savings Health Analysis"
   ]
  },
  {
   "cell_type": "code",
   "execution_count": 17,
   "metadata": {},
   "outputs": [
    {
     "data": {
      "text/html": [
       "<div>\n",
       "<style scoped>\n",
       "    .dataframe tbody tr th:only-of-type {\n",
       "        vertical-align: middle;\n",
       "    }\n",
       "\n",
       "    .dataframe tbody tr th {\n",
       "        vertical-align: top;\n",
       "    }\n",
       "\n",
       "    .dataframe thead th {\n",
       "        text-align: right;\n",
       "    }\n",
       "</style>\n",
       "<table border=\"1\" class=\"dataframe\">\n",
       "  <thead>\n",
       "    <tr style=\"text-align: right;\">\n",
       "      <th></th>\n",
       "      <th>amount</th>\n",
       "    </tr>\n",
       "  </thead>\n",
       "  <tbody>\n",
       "    <tr>\n",
       "      <th>crypto</th>\n",
       "      <td>48566.387</td>\n",
       "    </tr>\n",
       "    <tr>\n",
       "      <th>shares</th>\n",
       "      <td>42181.220</td>\n",
       "    </tr>\n",
       "  </tbody>\n",
       "</table>\n",
       "</div>"
      ],
      "text/plain": [
       "           amount\n",
       "crypto  48566.387\n",
       "shares  42181.220"
      ]
     },
     "metadata": {},
     "output_type": "display_data"
    }
   ],
   "source": [
    "# Set monthly household income\n",
    "monthly_income = 12000\n",
    "\n",
    "# Consolidate financial assets data: \n",
    "shares = my_agg_value + my_spy_value\n",
    "crypto = my_btc_value + my_eth_value\n",
    "\n",
    "# Create savings DataFrame\n",
    "df_savings = pd.DataFrame(data=[crypto, shares], index=[\"crypto\", \"shares\"], columns=[\"amount\"])\n",
    "\n",
    "# Display savings DataFrame\n",
    "display(df_savings)"
   ]
  },
  {
   "cell_type": "code",
   "execution_count": 18,
   "metadata": {},
   "outputs": [
    {
     "data": {
      "text/plain": [
       "<Axes: title={'center': 'Personal Savings Composition'}, ylabel='amount'>"
      ]
     },
     "execution_count": 18,
     "metadata": {},
     "output_type": "execute_result"
    },
    {
     "data": {
      "image/png": "[encoded data removed]",
      "text/plain": [
       "<Figure size 640x480 with 1 Axes>"
      ]
     },
     "metadata": {},
     "output_type": "display_data"
    }
   ],
   "source": [
    "# Plot savings pie chart\n",
    "df_savings.plot.pie(y=\"amount\", title=\"Personal Savings Composition\")"
   ]
  },
  {
   "cell_type": "code",
   "execution_count": 19,
   "metadata": {},
   "outputs": [
    {
     "name": "stdout",
     "output_type": "stream",
     "text": [
      "Congratulations! You have enough money in your emergency fund.\n"
     ]
    }
   ],
   "source": [
    "# Set ideal emergency fund\n",
    "emergency_fund = monthly_income * 3\n",
    "\n",
    "# Calculate total amount of savings\n",
    "total_savings= shares + crypto\n",
    "\n",
    "# Validate saving health using conditionals\n",
    "if total_savings > emergency_fund:\n",
    "    print(\"Congratulations! You have enough money in your emergency fund.\")\n",
    "elif total_savings == emergency_fund:\n",
    "    print(\"Congratulations! You have reached your financial goal.\")\n",
    "else:\n",
    "    print(f\"You are ${emergency_fund-total_savings} from reaching your goal\")"
   ]
  },
  {
   "cell_type": "markdown",
   "metadata": {},
   "source": [
    "## Part 2 - Retirement Planning\n",
    "\n",
    "### Monte Carlo Simulation"
   ]
  },
  {
   "cell_type": "code",
   "execution_count": 20,
   "metadata": {},
   "outputs": [],
   "source": [
    "# Set start and end dates of five years back from today.\n",
    "# Sample results may vary from the solution based on the time frame chosen\n",
    "start_date = pd.Timestamp('2018-07-13', tz='America/New_York').isoformat()\n",
    "end_date = pd.Timestamp('2023-07-13', tz='America/New_York').isoformat()"
   ]
  },
  {
   "cell_type": "code",
   "execution_count": 21,
   "metadata": {},
   "outputs": [
    {
     "data": {
      "text/html": [
       "<div>\n",
       "<style scoped>\n",
       "    .dataframe tbody tr th:only-of-type {\n",
       "        vertical-align: middle;\n",
       "    }\n",
       "\n",
       "    .dataframe tbody tr th {\n",
       "        vertical-align: top;\n",
       "    }\n",
       "\n",
       "    .dataframe thead tr th {\n",
       "        text-align: left;\n",
       "    }\n",
       "\n",
       "    .dataframe thead tr:last-of-type th {\n",
       "        text-align: right;\n",
       "    }\n",
       "</style>\n",
       "<table border=\"1\" class=\"dataframe\">\n",
       "  <thead>\n",
       "    <tr>\n",
       "      <th></th>\n",
       "      <th colspan=\"7\" halign=\"left\">AGG</th>\n",
       "      <th colspan=\"7\" halign=\"left\">SPY</th>\n",
       "    </tr>\n",
       "    <tr>\n",
       "      <th></th>\n",
       "      <th>open</th>\n",
       "      <th>high</th>\n",
       "      <th>low</th>\n",
       "      <th>close</th>\n",
       "      <th>volume</th>\n",
       "      <th>trade_count</th>\n",
       "      <th>vwap</th>\n",
       "      <th>open</th>\n",
       "      <th>high</th>\n",
       "      <th>low</th>\n",
       "      <th>close</th>\n",
       "      <th>volume</th>\n",
       "      <th>trade_count</th>\n",
       "      <th>vwap</th>\n",
       "    </tr>\n",
       "    <tr>\n",
       "      <th>timestamp</th>\n",
       "      <th></th>\n",
       "      <th></th>\n",
       "      <th></th>\n",
       "      <th></th>\n",
       "      <th></th>\n",
       "      <th></th>\n",
       "      <th></th>\n",
       "      <th></th>\n",
       "      <th></th>\n",
       "      <th></th>\n",
       "      <th></th>\n",
       "      <th></th>\n",
       "      <th></th>\n",
       "      <th></th>\n",
       "    </tr>\n",
       "  </thead>\n",
       "  <tbody>\n",
       "    <tr>\n",
       "      <th>2018-07-13 04:00:00+00:00</th>\n",
       "      <td>106.44</td>\n",
       "      <td>106.520</td>\n",
       "      <td>106.4400</td>\n",
       "      <td>106.51</td>\n",
       "      <td>2235587</td>\n",
       "      <td>9524</td>\n",
       "      <td>106.486794</td>\n",
       "      <td>279.17</td>\n",
       "      <td>279.930</td>\n",
       "      <td>278.66</td>\n",
       "      <td>279.56</td>\n",
       "      <td>48259487</td>\n",
       "      <td>206152</td>\n",
       "      <td>279.527779</td>\n",
       "    </tr>\n",
       "    <tr>\n",
       "      <th>2018-07-16 04:00:00+00:00</th>\n",
       "      <td>106.35</td>\n",
       "      <td>106.400</td>\n",
       "      <td>106.2434</td>\n",
       "      <td>106.39</td>\n",
       "      <td>2116689</td>\n",
       "      <td>8807</td>\n",
       "      <td>106.343343</td>\n",
       "      <td>279.64</td>\n",
       "      <td>279.803</td>\n",
       "      <td>278.84</td>\n",
       "      <td>279.39</td>\n",
       "      <td>48722138</td>\n",
       "      <td>177350</td>\n",
       "      <td>279.312325</td>\n",
       "    </tr>\n",
       "    <tr>\n",
       "      <th>2018-07-17 04:00:00+00:00</th>\n",
       "      <td>106.40</td>\n",
       "      <td>106.450</td>\n",
       "      <td>106.2900</td>\n",
       "      <td>106.35</td>\n",
       "      <td>2964110</td>\n",
       "      <td>10450</td>\n",
       "      <td>106.371231</td>\n",
       "      <td>278.47</td>\n",
       "      <td>280.910</td>\n",
       "      <td>278.41</td>\n",
       "      <td>280.43</td>\n",
       "      <td>52890500</td>\n",
       "      <td>216883</td>\n",
       "      <td>280.027102</td>\n",
       "    </tr>\n",
       "    <tr>\n",
       "      <th>2018-07-18 04:00:00+00:00</th>\n",
       "      <td>106.36</td>\n",
       "      <td>106.385</td>\n",
       "      <td>106.2700</td>\n",
       "      <td>106.32</td>\n",
       "      <td>1760878</td>\n",
       "      <td>14103</td>\n",
       "      <td>106.336028</td>\n",
       "      <td>280.56</td>\n",
       "      <td>281.180</td>\n",
       "      <td>280.06</td>\n",
       "      <td>281.06</td>\n",
       "      <td>45335061</td>\n",
       "      <td>169756</td>\n",
       "      <td>280.805105</td>\n",
       "    </tr>\n",
       "    <tr>\n",
       "      <th>2018-07-19 04:00:00+00:00</th>\n",
       "      <td>106.34</td>\n",
       "      <td>106.545</td>\n",
       "      <td>106.3100</td>\n",
       "      <td>106.48</td>\n",
       "      <td>2163268</td>\n",
       "      <td>10957</td>\n",
       "      <td>106.448966</td>\n",
       "      <td>280.31</td>\n",
       "      <td>280.740</td>\n",
       "      <td>279.46</td>\n",
       "      <td>279.96</td>\n",
       "      <td>61491867</td>\n",
       "      <td>236049</td>\n",
       "      <td>280.146764</td>\n",
       "    </tr>\n",
       "  </tbody>\n",
       "</table>\n",
       "</div>"
      ],
      "text/plain": [
       "                              AGG                                      \\\n",
       "                             open     high       low   close   volume   \n",
       "timestamp                                                               \n",
       "2018-07-13 04:00:00+00:00  106.44  106.520  106.4400  106.51  2235587   \n",
       "2018-07-16 04:00:00+00:00  106.35  106.400  106.2434  106.39  2116689   \n",
       "2018-07-17 04:00:00+00:00  106.40  106.450  106.2900  106.35  2964110   \n",
       "2018-07-18 04:00:00+00:00  106.36  106.385  106.2700  106.32  1760878   \n",
       "2018-07-19 04:00:00+00:00  106.34  106.545  106.3100  106.48  2163268   \n",
       "\n",
       "                                                      SPY                   \\\n",
       "                          trade_count        vwap    open     high     low   \n",
       "timestamp                                                                    \n",
       "2018-07-13 04:00:00+00:00        9524  106.486794  279.17  279.930  278.66   \n",
       "2018-07-16 04:00:00+00:00        8807  106.343343  279.64  279.803  278.84   \n",
       "2018-07-17 04:00:00+00:00       10450  106.371231  278.47  280.910  278.41   \n",
       "2018-07-18 04:00:00+00:00       14103  106.336028  280.56  281.180  280.06   \n",
       "2018-07-19 04:00:00+00:00       10957  106.448966  280.31  280.740  279.46   \n",
       "\n",
       "                                                                     \n",
       "                            close    volume trade_count        vwap  \n",
       "timestamp                                                            \n",
       "2018-07-13 04:00:00+00:00  279.56  48259487      206152  279.527779  \n",
       "2018-07-16 04:00:00+00:00  279.39  48722138      177350  279.312325  \n",
       "2018-07-17 04:00:00+00:00  280.43  52890500      216883  280.027102  \n",
       "2018-07-18 04:00:00+00:00  281.06  45335061      169756  280.805105  \n",
       "2018-07-19 04:00:00+00:00  279.96  61491867      236049  280.146764  "
      ]
     },
     "execution_count": 21,
     "metadata": {},
     "output_type": "execute_result"
    }
   ],
   "source": [
    "# Get 5 years' worth of historical data for SPY and AGG (tickers variable and timeframe defined previously)\n",
    "df_stock_data = alpaca.get_bars(\n",
    "    tickers,\n",
    "    timeframe,\n",
    "    start=start_date,\n",
    "    end=end_date\n",
    ").df\n",
    "\n",
    "# Reorganize the DataFrame\n",
    "# Separate ticker data\n",
    "AGG_data = df_stock_data[df_stock_data['symbol']=='AGG'].drop('symbol', axis='columns')\n",
    "SPY_data = df_stock_data[df_stock_data['symbol']=='SPY'].drop('symbol', axis='columns')\n",
    "\n",
    "# Concatenate the ticker DataFrames\n",
    "df_stock_data = pd.concat([AGG_data, SPY_data],axis=1, keys=['AGG','SPY'])\n",
    "\n",
    "# Display sample data\n",
    "df_stock_data.head()"
   ]
  },
  {
   "cell_type": "code",
   "execution_count": 22,
   "metadata": {},
   "outputs": [],
   "source": [
    "# Configuring a Monte Carlo simulation to forecast 30 years cumulative returns\n",
    "# use 500 runs and 40(AGG)/60(SPY) portfolio.\n",
    "MC_thirty_years = MCSimulation(\n",
    "    portfolio_data = df_stock_data,\n",
    "    weights = [.40, .60],\n",
    "    num_simulation = 500,\n",
    "    num_trading_days = 252*30\n",
    ")\n"
   ]
  },
  {
   "cell_type": "code",
   "execution_count": 23,
   "metadata": {},
   "outputs": [
    {
     "data": {
      "text/html": [
       "<div>\n",
       "<style scoped>\n",
       "    .dataframe tbody tr th:only-of-type {\n",
       "        vertical-align: middle;\n",
       "    }\n",
       "\n",
       "    .dataframe tbody tr th {\n",
       "        vertical-align: top;\n",
       "    }\n",
       "\n",
       "    .dataframe thead tr th {\n",
       "        text-align: left;\n",
       "    }\n",
       "\n",
       "    .dataframe thead tr:last-of-type th {\n",
       "        text-align: right;\n",
       "    }\n",
       "</style>\n",
       "<table border=\"1\" class=\"dataframe\">\n",
       "  <thead>\n",
       "    <tr>\n",
       "      <th></th>\n",
       "      <th colspan=\"8\" halign=\"left\">AGG</th>\n",
       "      <th colspan=\"8\" halign=\"left\">SPY</th>\n",
       "    </tr>\n",
       "    <tr>\n",
       "      <th></th>\n",
       "      <th>open</th>\n",
       "      <th>high</th>\n",
       "      <th>low</th>\n",
       "      <th>close</th>\n",
       "      <th>volume</th>\n",
       "      <th>trade_count</th>\n",
       "      <th>vwap</th>\n",
       "      <th>daily_return</th>\n",
       "      <th>open</th>\n",
       "      <th>high</th>\n",
       "      <th>low</th>\n",
       "      <th>close</th>\n",
       "      <th>volume</th>\n",
       "      <th>trade_count</th>\n",
       "      <th>vwap</th>\n",
       "      <th>daily_return</th>\n",
       "    </tr>\n",
       "    <tr>\n",
       "      <th>timestamp</th>\n",
       "      <th></th>\n",
       "      <th></th>\n",
       "      <th></th>\n",
       "      <th></th>\n",
       "      <th></th>\n",
       "      <th></th>\n",
       "      <th></th>\n",
       "      <th></th>\n",
       "      <th></th>\n",
       "      <th></th>\n",
       "      <th></th>\n",
       "      <th></th>\n",
       "      <th></th>\n",
       "      <th></th>\n",
       "      <th></th>\n",
       "      <th></th>\n",
       "    </tr>\n",
       "  </thead>\n",
       "  <tbody>\n",
       "    <tr>\n",
       "      <th>2018-07-13 04:00:00+00:00</th>\n",
       "      <td>106.44</td>\n",
       "      <td>106.520</td>\n",
       "      <td>106.4400</td>\n",
       "      <td>106.51</td>\n",
       "      <td>2235587</td>\n",
       "      <td>9524</td>\n",
       "      <td>106.486794</td>\n",
       "      <td>NaN</td>\n",
       "      <td>279.17</td>\n",
       "      <td>279.930</td>\n",
       "      <td>278.66</td>\n",
       "      <td>279.56</td>\n",
       "      <td>48259487</td>\n",
       "      <td>206152</td>\n",
       "      <td>279.527779</td>\n",
       "      <td>NaN</td>\n",
       "    </tr>\n",
       "    <tr>\n",
       "      <th>2018-07-16 04:00:00+00:00</th>\n",
       "      <td>106.35</td>\n",
       "      <td>106.400</td>\n",
       "      <td>106.2434</td>\n",
       "      <td>106.39</td>\n",
       "      <td>2116689</td>\n",
       "      <td>8807</td>\n",
       "      <td>106.343343</td>\n",
       "      <td>-0.001127</td>\n",
       "      <td>279.64</td>\n",
       "      <td>279.803</td>\n",
       "      <td>278.84</td>\n",
       "      <td>279.39</td>\n",
       "      <td>48722138</td>\n",
       "      <td>177350</td>\n",
       "      <td>279.312325</td>\n",
       "      <td>-0.000608</td>\n",
       "    </tr>\n",
       "    <tr>\n",
       "      <th>2018-07-17 04:00:00+00:00</th>\n",
       "      <td>106.40</td>\n",
       "      <td>106.450</td>\n",
       "      <td>106.2900</td>\n",
       "      <td>106.35</td>\n",
       "      <td>2964110</td>\n",
       "      <td>10450</td>\n",
       "      <td>106.371231</td>\n",
       "      <td>-0.000376</td>\n",
       "      <td>278.47</td>\n",
       "      <td>280.910</td>\n",
       "      <td>278.41</td>\n",
       "      <td>280.43</td>\n",
       "      <td>52890500</td>\n",
       "      <td>216883</td>\n",
       "      <td>280.027102</td>\n",
       "      <td>0.003722</td>\n",
       "    </tr>\n",
       "    <tr>\n",
       "      <th>2018-07-18 04:00:00+00:00</th>\n",
       "      <td>106.36</td>\n",
       "      <td>106.385</td>\n",
       "      <td>106.2700</td>\n",
       "      <td>106.32</td>\n",
       "      <td>1760878</td>\n",
       "      <td>14103</td>\n",
       "      <td>106.336028</td>\n",
       "      <td>-0.000282</td>\n",
       "      <td>280.56</td>\n",
       "      <td>281.180</td>\n",
       "      <td>280.06</td>\n",
       "      <td>281.06</td>\n",
       "      <td>45335061</td>\n",
       "      <td>169756</td>\n",
       "      <td>280.805105</td>\n",
       "      <td>0.002247</td>\n",
       "    </tr>\n",
       "    <tr>\n",
       "      <th>2018-07-19 04:00:00+00:00</th>\n",
       "      <td>106.34</td>\n",
       "      <td>106.545</td>\n",
       "      <td>106.3100</td>\n",
       "      <td>106.48</td>\n",
       "      <td>2163268</td>\n",
       "      <td>10957</td>\n",
       "      <td>106.448966</td>\n",
       "      <td>0.001505</td>\n",
       "      <td>280.31</td>\n",
       "      <td>280.740</td>\n",
       "      <td>279.46</td>\n",
       "      <td>279.96</td>\n",
       "      <td>61491867</td>\n",
       "      <td>236049</td>\n",
       "      <td>280.146764</td>\n",
       "      <td>-0.003914</td>\n",
       "    </tr>\n",
       "  </tbody>\n",
       "</table>\n",
       "</div>"
      ],
      "text/plain": [
       "                              AGG                                      \\\n",
       "                             open     high       low   close   volume   \n",
       "timestamp                                                               \n",
       "2018-07-13 04:00:00+00:00  106.44  106.520  106.4400  106.51  2235587   \n",
       "2018-07-16 04:00:00+00:00  106.35  106.400  106.2434  106.39  2116689   \n",
       "2018-07-17 04:00:00+00:00  106.40  106.450  106.2900  106.35  2964110   \n",
       "2018-07-18 04:00:00+00:00  106.36  106.385  106.2700  106.32  1760878   \n",
       "2018-07-19 04:00:00+00:00  106.34  106.545  106.3100  106.48  2163268   \n",
       "\n",
       "                                                                   SPY  \\\n",
       "                          trade_count        vwap daily_return    open   \n",
       "timestamp                                                                \n",
       "2018-07-13 04:00:00+00:00        9524  106.486794          NaN  279.17   \n",
       "2018-07-16 04:00:00+00:00        8807  106.343343    -0.001127  279.64   \n",
       "2018-07-17 04:00:00+00:00       10450  106.371231    -0.000376  278.47   \n",
       "2018-07-18 04:00:00+00:00       14103  106.336028    -0.000282  280.56   \n",
       "2018-07-19 04:00:00+00:00       10957  106.448966     0.001505  280.31   \n",
       "\n",
       "                                                                          \\\n",
       "                              high     low   close    volume trade_count   \n",
       "timestamp                                                                  \n",
       "2018-07-13 04:00:00+00:00  279.930  278.66  279.56  48259487      206152   \n",
       "2018-07-16 04:00:00+00:00  279.803  278.84  279.39  48722138      177350   \n",
       "2018-07-17 04:00:00+00:00  280.910  278.41  280.43  52890500      216883   \n",
       "2018-07-18 04:00:00+00:00  281.180  280.06  281.06  45335061      169756   \n",
       "2018-07-19 04:00:00+00:00  280.740  279.46  279.96  61491867      236049   \n",
       "\n",
       "                                                    \n",
       "                                 vwap daily_return  \n",
       "timestamp                                           \n",
       "2018-07-13 04:00:00+00:00  279.527779          NaN  \n",
       "2018-07-16 04:00:00+00:00  279.312325    -0.000608  \n",
       "2018-07-17 04:00:00+00:00  280.027102     0.003722  \n",
       "2018-07-18 04:00:00+00:00  280.805105     0.002247  \n",
       "2018-07-19 04:00:00+00:00  280.146764    -0.003914  "
      ]
     },
     "execution_count": 23,
     "metadata": {},
     "output_type": "execute_result"
    }
   ],
   "source": [
    "# Printing the simulation input data\n",
    "MC_thirty_years.portfolio_data.head()"
   ]
  },
  {
   "cell_type": "code",
   "execution_count": 24,
   "metadata": {},
   "outputs": [],
   "source": [
    "# Import warnings to ignore warnings\n",
    "import warnings\n",
    "\n",
    "warnings.filterwarnings('ignore')"
   ]
  },
  {
   "cell_type": "code",
   "execution_count": null,
   "metadata": {
    "scrolled": true,
    "tags": []
   },
   "outputs": [
    {
     "name": "stdout",
     "output_type": "stream",
     "text": [
      "Running Monte Carlo simulation number 0.\n",
      "Running Monte Carlo simulation number 10.\n",
      "Running Monte Carlo simulation number 20.\n",
      "Running Monte Carlo simulation number 30.\n",
      "Running Monte Carlo simulation number 40.\n",
      "Running Monte Carlo simulation number 50.\n",
      "Running Monte Carlo simulation number 60.\n",
      "Running Monte Carlo simulation number 70.\n",
      "Running Monte Carlo simulation number 80.\n",
      "Running Monte Carlo simulation number 90.\n",
      "Running Monte Carlo simulation number 100.\n",
      "Running Monte Carlo simulation number 110.\n",
      "Running Monte Carlo simulation number 120.\n",
      "Running Monte Carlo simulation number 130.\n",
      "Running Monte Carlo simulation number 140.\n",
      "Running Monte Carlo simulation number 150.\n",
      "Running Monte Carlo simulation number 160.\n",
      "Running Monte Carlo simulation number 170.\n",
      "Running Monte Carlo simulation number 180.\n",
      "Running Monte Carlo simulation number 190.\n",
      "Running Monte Carlo simulation number 200.\n",
      "Running Monte Carlo simulation number 210.\n",
      "Running Monte Carlo simulation number 220.\n"
     ]
    }
   ],
   "source": [
    "# Running a Monte Carlo simulation to forecast 30 years cumulative returns\n",
    "MC_thirty_years.calc_cumulative_return()"
   ]
  },
  {
   "cell_type": "code",
   "execution_count": null,
   "metadata": {},
   "outputs": [],
   "source": [
    "# Plot simulation outcomes\n",
    "line_plot = MC_thirty_years.plot_simulation()\n",
    "\n",
    "# Save the plot for future usage\n",
    "line_plot.get_figure().savefig(\"MC_thirthy_year_sim_plot.png\", bbox_inches=\"tight\")"
   ]
  },
  {
   "cell_type": "code",
   "execution_count": null,
   "metadata": {},
   "outputs": [],
   "source": [
    "# Plot probability distribution and confidence intervals\n",
    "dist_plot = MC_thirty_years.plot_distribution()\n",
    "\n",
    "# Save the plot for future usage\n",
    "dist_plot.get_figure().savefig('MC_thirty_year_dist_plot.png',bbox_inches='tight')"
   ]
  },
  {
   "cell_type": "markdown",
   "metadata": {},
   "source": [
    "### Retirement Analysis"
   ]
  },
  {
   "cell_type": "code",
   "execution_count": null,
   "metadata": {},
   "outputs": [],
   "source": [
    "# Fetch summary statistics from the Monte Carlo simulation results\n",
    "tbl = MC_thirty_years.summarize_cumulative_return()\n",
    "\n",
    "# Print summary statistics\n",
    "print(tbl)"
   ]
  },
  {
   "cell_type": "markdown",
   "metadata": {},
   "source": [
    "### Calculate the expected portfolio return at the `95%` lower and upper confidence intervals based on a `$20,000` initial investment."
   ]
  },
  {
   "cell_type": "code",
   "execution_count": null,
   "metadata": {},
   "outputs": [],
   "source": [
    "# Set initial investment\n",
    "initial_investment = 20000\n",
    "\n",
    "# Use the lower and upper `95%` confidence intervals to calculate the range of the possible outcomes of our $20,000\n",
    "ci_lower = round(tbl[8]*20000,2)\n",
    "ci_upper = round(tbl[9]*20000,2)\n",
    "\n",
    "# Print results\n",
    "print(f\"There is a 95% chance that an initial investment of ${initial_investment} in the portfolio\"\n",
    "      f\" over the next 30 years will end within in the range of\"\n",
    "      f\" ${ci_lower} and ${ci_upper}\")"
   ]
  },
  {
   "cell_type": "markdown",
   "metadata": {},
   "source": [
    "### Calculate the expected portfolio return at the `95%` lower and upper confidence intervals based on a `50%` increase in the initial investment."
   ]
  },
  {
   "cell_type": "code",
   "execution_count": null,
   "metadata": {},
   "outputs": [],
   "source": [
    "# Set initial investment\n",
    "initial_investment = 20000 * 1.5\n",
    "\n",
    "# Use the lower and upper `95%` confidence intervals to calculate the range of the possible outcomes of our $30,000\n",
    "ci_lower = round(tbl[8]*(20000 * 1.5),2)\n",
    "ci_upper = round(tbl[9]*(20000 * 1.5),2)\n",
    "\n",
    "# Print results\n",
    "print(f\"There is a 95% chance that an initial investment of ${initial_investment} in the portfolio\"\n",
    "      f\" over the next 30 years will end within in the range of\"\n",
    "      f\" ${ci_lower} and ${ci_upper}\")"
   ]
  },
  {
   "cell_type": "markdown",
   "metadata": {},
   "source": [
    "## Optional Challenge - Early Retirement\n",
    "\n",
    "\n",
    "### Five Years Retirement Option"
   ]
  },
  {
   "cell_type": "code",
   "execution_count": null,
   "metadata": {},
   "outputs": [],
   "source": [
    "# Configuring a Monte Carlo simulation to forecast 5 years cumulative returns\n",
    "MC_five_years = MCSimulation(\n",
    "    portfolio_data = df_stock_data,\n",
    "    weights = [.40, .60],\n",
    "    num_simulation = 500,\n",
    "    num_trading_days = 252*5\n",
    ")\n",
    "\n",
    "# Display data\n",
    "MC_five_years.portfolio_data.head()"
   ]
  },
  {
   "cell_type": "code",
   "execution_count": null,
   "metadata": {
    "scrolled": true,
    "tags": []
   },
   "outputs": [],
   "source": [
    "# Running a Monte Carlo simulation to forecast 5 years cumulative returns\n",
    "MC_five_years.calc_cumulative_return()"
   ]
  },
  {
   "cell_type": "code",
   "execution_count": null,
   "metadata": {},
   "outputs": [],
   "source": [
    "# Plot simulation outcomes\n",
    "line_plot_five = MC_five_years.plot_simulation()\n",
    "\n",
    "# Save the plot for future usage\n",
    "line_plot_five.get_figure().savefig(\"MC_five_year_sim_plot.png\", bbox_inches=\"tight\")"
   ]
  },
  {
   "cell_type": "code",
   "execution_count": null,
   "metadata": {},
   "outputs": [],
   "source": [
    "# Plot probability distribution and confidence intervals\n",
    "dist_plot_five = MC_five_years.plot_distribution()\n",
    "\n",
    "# Save the plot for future usage\n",
    "dist_plot_five.get_figure().savefig('MC_five_year_dist_plot.png',bbox_inches='tight')"
   ]
  },
  {
   "cell_type": "code",
   "execution_count": null,
   "metadata": {},
   "outputs": [],
   "source": [
    "# Fetch summary statistics from the Monte Carlo simulation results\n",
    "tbl_five = MC_five_years.summarize_cumulative_return()\n",
    "\n",
    "# Print summary statistics\n",
    "print(tbl_five)"
   ]
  },
  {
   "cell_type": "code",
   "execution_count": null,
   "metadata": {},
   "outputs": [],
   "source": [
    "# Set initial investment\n",
    "initial_investment = 60000\n",
    "\n",
    "# Use the lower and upper `95%` confidence intervals to calculate the range of the possible outcomes of our $60,000\n",
    "ci_lower_five = round(tbl_five[8]*(60000),2)\n",
    "ci_upper_five = round(tbl_five[9]*(60000),2)\n",
    "\n",
    "# Print results\n",
    "print(f\"There is a 95% chance that an initial investment of ${initial_investment} in the portfolio\"\n",
    "      f\" over the next 5 years will end within in the range of\"\n",
    "      f\" ${ci_lower_five} and ${ci_upper_five}\")"
   ]
  },
  {
   "cell_type": "markdown",
   "metadata": {},
   "source": [
    "### Ten Years Retirement Option"
   ]
  },
  {
   "cell_type": "code",
   "execution_count": null,
   "metadata": {},
   "outputs": [],
   "source": [
    "# Configuring a Monte Carlo simulation to forecast 10 years cumulative returns\n",
    "MC_ten_years = MCSimulation(\n",
    "    portfolio_data = df_stock_data,\n",
    "    weights = [.40, .60],\n",
    "    num_simulation = 500,\n",
    "    num_trading_days = 252*10\n",
    ")\n",
    "\n",
    "# Display data\n",
    "MC_ten_years.portfolio_data.head()"
   ]
  },
  {
   "cell_type": "code",
   "execution_count": null,
   "metadata": {
    "scrolled": true,
    "tags": []
   },
   "outputs": [],
   "source": [
    "# Running a Monte Carlo simulation to forecast 10 years cumulative returns\n",
    "MC_ten_years.calc_cumulative_return()"
   ]
  },
  {
   "cell_type": "code",
   "execution_count": null,
   "metadata": {},
   "outputs": [],
   "source": [
    "# Plot simulation outcomes\n",
    "line_plot_ten = MC_ten_years.plot_simulation()\n",
    "\n",
    "# Save the plot for future usage\n",
    "line_plot_ten.get_figure().savefig(\"MC_ten_year_sim_plot.png\", bbox_inches=\"tight\")"
   ]
  },
  {
   "cell_type": "code",
   "execution_count": null,
   "metadata": {},
   "outputs": [],
   "source": [
    "# Plot probability distribution and confidence intervals\n",
    "dist_plot_ten = MC_ten_years.plot_distribution()\n",
    "\n",
    "# Save the plot for future usage\n",
    "dist_plot_ten.get_figure().savefig('MC_ten_year_dist_plot.png',bbox_inches='tight')"
   ]
  },
  {
   "cell_type": "code",
   "execution_count": null,
   "metadata": {},
   "outputs": [],
   "source": [
    "# Fetch summary statistics from the Monte Carlo simulation results\n",
    "tbl_ten = MC_ten_years.summarize_cumulative_return()\n",
    "\n",
    "# Print summary statistics\n",
    "print(tbl_ten)"
   ]
  },
  {
   "cell_type": "code",
   "execution_count": null,
   "metadata": {},
   "outputs": [],
   "source": [
    "# Set initial investment\n",
    "initial_investment = 60000\n",
    "\n",
    "# Use the lower and upper `95%` confidence intervals to calculate the range of the possible outcomes of our $60,000\n",
    "ci_lower_ten = round(tbl_ten[8]*(60000),2)\n",
    "ci_upper_ten = round(tbl_ten[9]*(60000),2)\n",
    "# Print results\n",
    "print(f\"There is a 95% chance that an initial investment of ${initial_investment} in the portfolio\"\n",
    "      f\" over the next 10 years will end within in the range of\"\n",
    "      f\" ${ci_lower_ten} and ${ci_upper_ten}\")"
   ]
  },
  {
   "cell_type": "code",
   "execution_count": null,
   "metadata": {},
   "outputs": [],
   "source": []
  }
 ],
 "metadata": {
  "kernelspec": {
   "display_name": "Python 3 (ipykernel)",
   "language": "python",
   "name": "python3"
  },
  "language_info": {
   "codemirror_mode": {
    "name": "ipython",
    "version": 3
   },
   "file_extension": ".py",
   "mimetype": "text/x-python",
   "name": "python",
   "nbconvert_exporter": "python",
   "pygments_lexer": "ipython3",
   "version": "3.10.11"
  },
  "nteract": {
   "version": "0.28.0"
  }
 },
 "nbformat": 4,
 "nbformat_minor": 4
}
